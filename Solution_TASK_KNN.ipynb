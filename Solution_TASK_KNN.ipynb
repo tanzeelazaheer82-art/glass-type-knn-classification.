{
  "nbformat": 4,
  "nbformat_minor": 0,
  "metadata": {
    "colab": {
      "provenance": [],
      "include_colab_link": true
    },
    "kernelspec": {
      "name": "python3",
      "display_name": "Python 3"
    },
    "language_info": {
      "name": "python"
    }
  },
  "cells": [
    {
      "cell_type": "markdown",
      "metadata": {
        "id": "view-in-github",
        "colab_type": "text"
      },
      "source": [
        "<a href=\"https://colab.research.google.com/github/tanzeelazaheer82-art/glass-type-knn-classification./blob/main/Solution_TASK_KNN.ipynb\" target=\"_parent\"><img src=\"https://colab.research.google.com/assets/colab-badge.svg\" alt=\"Open In Colab\"/></a>"
      ]
    },
    {
      "cell_type": "markdown",
      "source": [
        "### `Task` Train a KNN model on glass type dataset and find best n_neighnours.\n",
        "\n",
        "Data Link: https://drive.google.com/file/d/17cbDNBmys04MJqQfrma3jd72VPMnxIq0/view?usp=share_link"
      ],
      "metadata": {
        "id": "jAJcqSvWXX0B"
      }
    },
    {
      "cell_type": "code",
      "source": [
        "# Your code goes here"
      ],
      "metadata": {
        "id": "Zb5Ol4zKXf5m"
      },
      "execution_count": null,
      "outputs": []
    },
    {
      "cell_type": "markdown",
      "source": [
        "#### `Solution`\n"
      ],
      "metadata": {
        "id": "N_oRxZM1XyqS"
      }
    },
    {
      "cell_type": "code",
      "source": [
        "# Importing libraries and functions\n",
        "\n",
        "import pandas as pd\n",
        "\n",
        "import matplotlib.pyplot as plt\n",
        "import seaborn as sns\n",
        "\n",
        "from sklearn.model_selection import train_test_split, GridSearchCV\n",
        "from sklearn.neighbors import KNeighborsClassifier\n",
        "from sklearn.metrics import accuracy_score\n",
        "from sklearn.preprocessing import MinMaxScaler\n",
        "\n",
        "\n",
        "# Load the dataset\n",
        "data = pd.read_csv('/content/glass.csv')\n",
        "data.drop_duplicates(inplace=True)\n",
        "data.info()"
      ],
      "metadata": {
        "colab": {
          "base_uri": "https://localhost:8080/"
        },
        "id": "n_ilVVxbX04n",
        "outputId": "0c36cb5d-942e-40c5-a9aa-62699bbb300e"
      },
      "execution_count": null,
      "outputs": [
        {
          "output_type": "stream",
          "name": "stdout",
          "text": [
            "<class 'pandas.core.frame.DataFrame'>\n",
            "Index: 213 entries, 0 to 213\n",
            "Data columns (total 10 columns):\n",
            " #   Column  Non-Null Count  Dtype  \n",
            "---  ------  --------------  -----  \n",
            " 0   RI      213 non-null    float64\n",
            " 1   Na      213 non-null    float64\n",
            " 2   Mg      213 non-null    float64\n",
            " 3   Al      213 non-null    float64\n",
            " 4   Si      213 non-null    float64\n",
            " 5   K       213 non-null    float64\n",
            " 6   Ca      213 non-null    float64\n",
            " 7   Ba      213 non-null    float64\n",
            " 8   Fe      213 non-null    float64\n",
            " 9   Type    213 non-null    int64  \n",
            "dtypes: float64(9), int64(1)\n",
            "memory usage: 18.3 KB\n"
          ]
        }
      ]
    },
    {
      "cell_type": "code",
      "source": [
        "# Separate the features and target variable\n",
        "X = data.drop('Type', axis=1)\n",
        "y = data['Type']\n",
        "\n",
        "# Split the data into training and testing sets\n",
        "X_train, X_test, y_train, y_test = train_test_split(X, y, test_size=0.2, random_state=20)"
      ],
      "metadata": {
        "id": "q2F-AYEBYNL5"
      },
      "execution_count": null,
      "outputs": []
    },
    {
      "cell_type": "code",
      "source": [
        "# Scaling Data\n",
        "\n",
        "scaler = MinMaxScaler()\n",
        "X_train = scaler.fit_transform(X_train)\n",
        "X_test = scaler.transform(X_test)"
      ],
      "metadata": {
        "id": "2XjhtKUDYNIu"
      },
      "execution_count": null,
      "outputs": []
    },
    {
      "cell_type": "code",
      "source": [
        "# Creating a model function\n",
        "\n",
        "def knn_func(train_x, train_label, test_x, k):\n",
        "    \"\"\"\n",
        "    train_x - train features\n",
        "    train_label - train targets\n",
        "    test_x - validation data(features)\n",
        "    k - nearest neighbours <int>\n",
        "    \"\"\"\n",
        "    knn = KNeighborsClassifier(n_neighbors = k)\n",
        "    knn.fit(train_x, train_label)\n",
        "    prediction = knn.predict(test_x)\n",
        "    return prediction"
      ],
      "metadata": {
        "id": "Q3s5vbhhYx-u"
      },
      "execution_count": null,
      "outputs": []
    },
    {
      "cell_type": "code",
      "source": [
        "# For best n_neighbours\n",
        "import math\n",
        "n = data.shape[0]\n",
        "k_max = math.sqrt(n)\n",
        "k_max"
      ],
      "metadata": {
        "colab": {
          "base_uri": "https://localhost:8080/"
        },
        "id": "HoNXURIyYyCP",
        "outputId": "ce699963-96db-490b-bde5-066b86c46969"
      },
      "execution_count": null,
      "outputs": [
        {
          "output_type": "execute_result",
          "data": {
            "text/plain": [
              "14.594519519326424"
            ]
          },
          "metadata": {},
          "execution_count": 20
        }
      ]
    },
    {
      "cell_type": "code",
      "source": [
        "normal_accuracy = []\n",
        "k_values = range(1,16)\n",
        "\n",
        "for k in k_values :\n",
        "    y_pred = knn_func(X_train,y_train,X_test,k)\n",
        "    accur = accuracy_score(y_test,y_pred)\n",
        "    normal_accuracy.append(accur)\n",
        "\n",
        "plt.plot(k_values,normal_accuracy,c=\"grey\",marker=\".\",ms=7,mfc=\"black\",mec=\"green\")\n",
        "plt.xlabel(\"K\")\n",
        "plt.ylabel(\"Accuracy\")\n",
        "plt.grid(True)\n",
        "plt.show()"
      ],
      "metadata": {
        "colab": {
          "base_uri": "https://localhost:8080/",
          "height": 452
        },
        "id": "9qLgnPa5ZvG-",
        "outputId": "f92ce931-f358-403d-c08f-7d1d125e2a96"
      },
      "execution_count": null,
      "outputs": [
        {
          "output_type": "display_data",
          "data": {
            "text/plain": [
              "<Figure size 640x480 with 1 Axes>"
            ],
            "image/png": "[encoded data removed]"
          },
          "metadata": {}
        }
      ]
    },
    {
      "cell_type": "markdown",
      "source": [
        "* From above graph of Accuracy vs K, best value for **n_beighbours is 3**."
      ],
      "metadata": {
        "id": "kCDO8-v8WRru"
      }
    },
    {
      "cell_type": "code",
      "source": [],
      "metadata": {
        "id": "MEbW0XDiYLjd"
      },
      "execution_count": null,
      "outputs": []
    },
    {
      "cell_type": "markdown",
      "source": [
        "## Happy Learning !"
      ],
      "metadata": {
        "id": "NKg0sle2WhSI"
      }
    }
  ]
}